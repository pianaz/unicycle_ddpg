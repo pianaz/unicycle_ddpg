{
 "cells": [
  {
   "cell_type": "code",
   "execution_count": null,
   "metadata": {},
   "outputs": [],
   "source": [
    "from shapely.geometry import Polygon\n",
    "from shapely.geometry import Point\n",
    "from shapely.geometry import LineString\n",
    "import numpy as np\n",
    "\n",
    "env_size=5\n",
    "obstacles = Polygon([[1, 1], [2, 1], [2, 2], [1, 2], [1, 1]])\n",
    "obstacles = obstacles.union(\n",
    "                        Polygon([[3, 3], [4, 3], [4,,4], [3,,4], [3, 3]]))\n",
    "obstacles = obstacles.union(\n",
    "                        Polygon([[3, 1], [4, 1], [4, 2], [3, 2], [3, 1]]))\n",
    "obstacles = obstacles.union(\n",
    "                        Polygon([[1, 3], [2, 3], [2,,4], [1,,4], [1, 3]]))\n",
    "boundary = Polygon([[0, 0], [env_size, 0], \n",
    "            [env_size, env_size], [0, env_size], [0, 0]])\n",
    "boundary = boundary.difference(obstacles)\n",
    "corners = np.array([[1,2],[2,1],[1,4],[4,1],[2,3],[3,2],[3,4],[4,3]])\n",
    "goal = Polygon([[env_size, env_size-1], \n",
    "                             [env_size, env_size], \n",
    "                             [env_size-1, env_size], \n",
    "                             [env_size, env_size-1]])\n",
    "point_goal = np.array([env_size,env_size])"
   ]
  },
  {
   "cell_type": "code",
   "execution_count": null,
   "metadata": {},
   "outputs": [],
   "source": [
    "notOK = True\n",
    "while notOK:\n",
    "    x = np.array([np.random.uniform(low=np.array([0,0,0]), \n",
    "                                        high=np.array([5,5,2*np.pi]))])\n",
    "    xp = Point(x.flatten())\n",
    "    if not boundary.covers(xp) or goal.covers(xp):\n",
    "        notOK = True\n",
    "    else:\n",
    "        notOK = False\n",
    "state = x.flatten()\n",
    "state"
   ]
  },
  {
   "cell_type": "code",
   "execution_count": null,
   "metadata": {},
   "outputs": [],
   "source": [
    "NOT_found = True\n",
    "state=state[:2]\n",
    "points = []\n",
    "points.append(state)\n",
    "dist = 0\n",
    "while NOT_found:\n",
    "    line = LineString([point_goal, state])\n",
    "    if boundary.covers(line):\n",
    "        NOT_found = False\n",
    "        points.append(point_goal)\n",
    "    else:\n",
    "        best_distance=10\n",
    "        for i in range(len(corners)):\n",
    "            if Point(state).distance(Point(corners[i,:])) < best_distance and (state < corners[i,:]).all():\n",
    "                best = corners[i,:]\n",
    "                best_distance = Point(state).distance(Point(corners[i,:]))\n",
    "        dist += best_distance\n",
    "        points.append(best)\n",
    "        state = best\n",
    "line = LineString(points)\n",
    "line.length"
   ]
  },
  {
   "cell_type": "code",
   "execution_count": null,
   "metadata": {},
   "outputs": [],
   "source": [
    "corners_dist = np.array([5.06449510224598,4.123105625617661, 3.6502815398728847, 2.23606797749979])"
   ]
  },
  {
   "cell_type": "code",
   "execution_count": null,
   "metadata": {},
   "outputs": [],
   "source": [
    "import math\n",
    "state = state[:2]\n",
    "if (state>=4).any():\n",
    "    best_distance = ((state[0] - point_goal[0])**2 + (state[1] - point_goal[1])**2)**0.5\n",
    "else:\n",
    "    best_distance=10\n",
    "    closest = 0\n",
    "    for i in range(len(corners)):\n",
    "        dist = ((state[0] - corners[i,0])**2 + (state[1] - corners[i,1])**2)**0.5\n",
    "        if dist < best_distance and (state < corners[i,:]).all():\n",
    "            closest = i\n",
    "            best_distance = dist\n",
    "    best_distance += corners_dist[math.floor(closest/2)]\n",
    "best_distance"
   ]
  },
  {
   "cell_type": "code",
   "execution_count": null,
   "metadata": {},
   "outputs": [],
   "source": [
    "def shortest_path_length(self, x):\n",
    "        # compute the shortest path connecting x to the goal through\n",
    "        # corners of the obstacles\n",
    "        # LEGACY FUNCTION\n",
    "        NOT_found = True\n",
    "        point=x[:2]\n",
    "        points = []\n",
    "        points.append(point)\n",
    "        dist = 0\n",
    "        while NOT_found:\n",
    "            line = LineString([self.point_goal, point])\n",
    "            if self.boundary.covers(line):\n",
    "                NOT_found = False\n",
    "                points.append(self.point_goal)\n",
    "            else:\n",
    "                best_dist=10\n",
    "                for i in range(len(self.corners)):\n",
    "                    if Point(point).distance(Point(self.corners[i,:])) \\\n",
    "                            < best_dist and (point < self.corners[i,:]).all():\n",
    "                        best = self.corners[i,:]\n",
    "                        best_dist = Point(point).distance(Point(self.corners[i,:]))\n",
    "                dist += best_dist\n",
    "                points.append(best)\n",
    "                point = best\n",
    "        line = LineString(points)\n",
    "\n",
    "        return line.length"
   ]
  },
  {
   "cell_type": "code",
   "execution_count": null,
   "metadata": {},
   "outputs": [],
   "source": [
    "import numpy as np\n",
    "import matplotlib.pyplot as plt\n",
    "\n",
    "x = [i+1 for i in range(100)]\n",
    "running_avg = [1]*100\n",
    "a = plt.plot(x, running_avg)\n",
    "plt.title('Running average of previous 100 scores')\n",
    "running = [2]*100\n",
    "b = plt.plot(x, running)"
   ]
  },
  {
   "cell_type": "code",
   "execution_count": null,
   "metadata": {},
   "outputs": [],
   "source": [
    "ratio =[1]*1000\n",
    "ratio = np.array(ratio)\n",
    "ratio[ratio>=1] = 0\n",
    "ratio\n"
   ]
  },
  {
   "cell_type": "code",
   "execution_count": null,
   "metadata": {},
   "outputs": [],
   "source": [
    "import os\n",
    "import tensorflow as tf\n",
    "import tensorflow.keras as keras\n",
    "from tensorflow.keras.layers import Dense\n",
    "\n",
    "\n",
    "class PolicyNetwork(keras.Model):\n",
    "    def __init__(self, layer_sizes= [400, 300], n_actions=2, name='policy',\n",
    "            chkpt_dir='tmp/ddpg'):\n",
    "        super(PolicyNetwork, self).__init__()\n",
    "        self.n_actions = n_actions\n",
    "\n",
    "        self.model_name = name\n",
    "        self.checkpoint_dir = chkpt_dir\n",
    "        self.checkpoint_file = os.path.join(self.checkpoint_dir, \n",
    "                                            self.model_name+'_ddpg.h5')\n",
    "\n",
    "        self.hidden_layers = []\n",
    "        self.layers_num = len(layer_sizes)\n",
    "        for i in range(self.layers_num):\n",
    "            self.hidden_layers.append(Dense(layer_sizes[i], activation='relu'))\n",
    "        self.mu1 = Dense(1, activation= 'sigmoid') \n",
    "        self.mu2 = Dense(1, activation= 'tanh') \n",
    "\n",
    "    def call(self, state):\n",
    "        tmp = self.hidden_layers[0](state)\n",
    "        for i in range(1, self.layers_num):\n",
    "            tmp = self.hidden_layers[i](tmp)\n",
    "        mu1 = self.mu1(tmp)\n",
    "        mu2 = self.mu2(tmp)\n",
    "        mu = tf.concat([mu1,mu2], axis=1)\n",
    "        return mu\n"
   ]
  },
  {
   "cell_type": "code",
   "execution_count": null,
   "metadata": {},
   "outputs": [],
   "source": [
    "import numpy as np\n",
    "from shapely.geometry import Point\n",
    "\n",
    "x = np.array([np.random.uniform(low=np.array([0,0,0]), \n",
    "                                        high=np.array([5,5,2*np.pi]))])\n",
    "state = x.flatten()"
   ]
  },
  {
   "cell_type": "code",
   "execution_count": null,
   "metadata": {},
   "outputs": [],
   "source": [
    "from tensorflow.keras.optimizers import Adam\n",
    "policy = PolicyNetwork( name='policy')\n",
    "policy.compile(optimizer=Adam(learning_rate=0.001))"
   ]
  },
  {
   "cell_type": "code",
   "execution_count": null,
   "metadata": {},
   "outputs": [],
   "source": [
    "state = tf.convert_to_tensor([state], dtype=tf.float32)\n",
    "a = policy(state)\n",
    "a"
   ]
  },
  {
   "cell_type": "code",
   "execution_count": null,
   "metadata": {},
   "outputs": [],
   "source": [
    "b=tf.convert_to_tensor((a[0][0] +1)/2)\n",
    "act = [b,[a[0][1]]]\n",
    "(a[0][0] +1)/2"
   ]
  },
  {
   "cell_type": "code",
   "execution_count": null,
   "metadata": {},
   "outputs": [],
   "source": [
    "action = tf.reshape(tf.concat([(a[0][0] +1)/2,a[0][1]],0), (1,2))"
   ]
  },
  {
   "cell_type": "code",
   "execution_count": null,
   "metadata": {},
   "outputs": [],
   "source": [
    "action = action.numpy().flatten()  \n"
   ]
  },
  {
   "cell_type": "code",
   "execution_count": null,
   "metadata": {},
   "outputs": [],
   "source": [
    "import numpy as np\n",
    "\n",
    "goals=np.zeros(5)\n",
    "goals==0\n",
    "norm=np.ones(5)\n",
    "norm[goals==0]=0\n",
    "norm"
   ]
  },
  {
   "cell_type": "code",
   "execution_count": null,
   "metadata": {},
   "outputs": [],
   "source": [
    "import pandas\n",
    "import numpy as np\n",
    "import matplotlib.pyplot as plt\n",
    "\n",
    "\n",
    "file = pandas.read_csv('plots/Unicycle_data.csv')\n",
    "data = np.array(file['normalized_score'])\n",
    "data\n",
    "x = [i+1 for i in range(len(data))]\n",
    "running_avg1=np.zeros(len(data))\n",
    "running_avg2=np.zeros(len(data))\n",
    "for i in range(len(data)):\n",
    "    running_avg1[i] = np.mean(data[max(0, i-100):(i+1)])\n",
    "for i in range(len(data)):\n",
    "    running_avg2[i] = np.mean(data[max(0, i-2000):(i+1)])\n",
    "plt.plot(x, running_avg1)\n",
    "plt.plot(x, running_avg2)\n",
    "plt.legend(['100 episodes mean', '2000 episodes mean'])\n",
    "plt.xlabel('Episodes')\n",
    "plt.ylabel('Normalized score')\n",
    "plt.yticks([0,1])\n",
    "plt.title('Running average of normalized cost')\n",
    "#plt.savefig('Unicycle_normalized_score_2000.pdf')"
   ]
  },
  {
   "cell_type": "code",
   "execution_count": null,
   "metadata": {},
   "outputs": [],
   "source": [
    "import numpy as np\n",
    "\n",
    "states = np.array([[0.05730002,4.5542898 ],\n",
    " [0.06597772,4.4880773 ],\n",
    " [0.06597772,4.4880773 ],\n",
    " [0.06591545,4.48816764],\n",
    " [0.16013622,4.52154602],\n",
    " [0.22516211,4.59746244],\n",
    " [0.22516211,4.59746244],\n",
    " [0.24290459,4.68546521],\n",
    " [0.24290459,4.68546521],\n",
    " [0.34219558,4.69699641],\n",
    " [0.44093787,4.71254089],\n",
    " [0.53690724,4.74049708],\n",
    " [0.6143857 ,4.80359211],\n",
    " [0.6143857 ,4.80359211],\n",
    " [0.71000943,4.77447557],\n",
    " [0.80973562,4.78128411],\n",
    " [0.90969145,4.78199101],\n",
    " [1.00929008,4.77351851],\n",
    " [1.08086791,4.83759153],\n",
    " [1.08086791,4.83759153],\n",
    " [1.17953779,4.85358918],\n",
    " [1.27507438,4.88292058],\n",
    " [1.27507441,4.88292061],\n",
    " [1.27507441,4.88292061],\n",
    " [1.27507492,4.88292101],\n",
    " [1.27507492,4.88292101],\n",
    " [1.37503189,4.88344581],\n",
    " [1.37503189,4.88344581],\n",
    " [1.37503189,4.88344581],\n",
    " [1.37503189,4.88344581],\n",
    " [1.42129671,4.79483861],\n",
    " [1.42129671,4.79483861],\n",
    " [1.50644213,4.7424752 ],\n",
    " [1.58688972,4.68314684],\n",
    " [1.64905944,4.60487428],\n",
    " [1.64905944,4.60487428],\n",
    " [1.65306888,4.61581253],\n",
    " [1.65306888,4.61581253],\n",
    " [1.73239937,4.55499853],\n",
    " [1.78989292,4.47322958],\n",
    " [1.78989292,4.47322958],\n",
    " [1.86993614,4.53310238],\n",
    " [1.86993613,4.53310244],\n",
    " [1.94925315,4.47227087],\n",
    " [2.0066898 ,4.39046195],\n",
    " [2.0066898 ,4.39046195],\n",
    " [2.08714187,4.44978424],\n",
    " [2.08700293,4.4504103 ],\n",
    " [2.15884833,4.38091276],\n",
    " [2.18277482,4.28807451],\n",
    " [2.18277482,4.28807451],\n",
    " [2.18277482,4.28807451],\n",
    " [2.28270084,4.29061612],\n",
    " [2.33011112,4.37861576],\n",
    " [2.33011112,4.37861576],\n",
    " [2.33011112,4.37861576],\n",
    " [2.4289398 ,4.39360113],\n",
    " [2.52539103,4.41984671],\n",
    " [2.60630252,4.47854083],\n",
    " [2.60630251,4.47854088],\n",
    " [2.67617114,4.4070563 ],\n",
    " [2.67783991,4.39692231],\n",
    " [2.67783991,4.39692231],\n",
    " [2.67783991,4.39692231],\n",
    " [2.67783991,4.39692231],\n",
    " [2.76972753,4.35757342],\n",
    " [2.86817024,4.34023265],\n",
    " [2.95821105,4.38364249],\n",
    " [2.9844919 ,4.48008332],\n",
    " [2.9844919 ,4.48008332],\n",
    " [3.07506276,4.52237541],\n",
    " [3.0906645 ,4.57191683],\n",
    " [3.0906645 ,4.57191683],\n",
    " [3.19040796,4.57876048],\n",
    " [3.2901714 ,4.58532654],\n",
    " [3.38996037,4.59152102],\n",
    " [3.48978086,4.59722238],\n",
    " [3.5896406 ,4.60224125],\n",
    " [3.68954625,4.60633672],\n",
    " [3.78949277,4.60941027],\n",
    " [3.88946525,4.61161858],\n",
    " [3.98944996,4.61327334],\n",
    " [4.08943988,4.61462161],\n",
    " [4.18943226,4.61579981],\n",
    " [4.28942517,4.61694714],\n",
    " [4.389417  ,4.618171  ]])"
   ]
  },
  {
   "cell_type": "code",
   "execution_count": 12,
   "metadata": {},
   "outputs": [
    {
     "name": "stdout",
     "output_type": "stream",
     "text": [
      "... loading models ...\n"
     ]
    },
    {
     "data": {
      "image/png": "[encoded data removed]",
      "text/plain": [
       "<Figure size 432x288 with 1 Axes>"
      ]
     },
     "metadata": {
      "needs_background": "light"
     },
     "output_type": "display_data"
    }
   ],
   "source": [
    "from ddpg import Agent\n",
    "import matplotlib.pyplot as plt\n",
    "from matplotlib import cm\n",
    "from matplotlib.ticker import LinearLocator\n",
    "import tensorflow as tf\n",
    "import numpy as np\n",
    "from env import UnicycleEnv\n",
    "import math\n",
    "\n",
    "\n",
    "env = UnicycleEnv()\n",
    "agent = Agent(input_dims=env.observation_space.shape, alpha=0.0001,\n",
    "                  beta=0.001, env=env, gamma=0.99,\n",
    "                  n_actions=env.action_space.shape[0],\n",
    "                  buffer_size=100000, qfun_layers=[400, 300],\n",
    "                  policy_layers=[400, 300], batch_size=100, noise=0.05)\n",
    "agent.load_models()\n",
    "fig = plt.figure()\n",
    "ax = fig.add_subplot(111, projection='3d')\n",
    "\n",
    "X = np.arange(0, 5, 0.1)\n",
    "Y = np.arange(0, 5, 0.1)\n",
    "t = np.arange(0, 2*math.pi, math.pi/4)\n",
    "a = np.arange(0, 1, 0.5)\n",
    "o = np.arange(-1, 1, 0.5)\n",
    "#X, Y = np.meshgrid(X, Y)\n",
    "Z = np.zeros([50,50])\n",
    "\n",
    "for i in range(len(X)):\n",
    "    for j in range(len(Y)):\n",
    "        count=0\n",
    "        for k in range(len(t)):\n",
    "            for l in range(len(a)):\n",
    "                for m in range(len(o)):\n",
    "                    state = np.array([[X[i],Y[j],t[k]]])\n",
    "                    state = tf.convert_to_tensor(state, dtype=tf.float32)\n",
    "                    action = np.array([[a[l],o[m]]])\n",
    "                    actions = tf.convert_to_tensor(action, dtype=tf.float32)\n",
    "                    Z[i,j] += agent.qfunction(state, actions)\n",
    "                    count +=1\n",
    "Z = Z/count\n",
    "X, Y = np.meshgrid(X, Y)\n",
    "Z = Z.reshape(X.shape)\n",
    "\n",
    "\n",
    "# Plot the surface.\n",
    "surf = ax.plot_surface(X, Y, Z, cmap=cm.coolwarm,\n",
    "                       linewidth=0, antialiased=False)\n",
    "#fig.savefig('qfunction.pdf')\n"
   ]
  },
  {
   "cell_type": "code",
   "execution_count": 19,
   "metadata": {},
   "outputs": [],
   "source": [
    "ax.azim=-10\n",
    "surf = ax.plot_surface(X, Y, Z, cmap=cm.coolwarm,\n",
    "                       linewidth=0, antialiased=False)\n",
    "                       \n",
    "fig.savefig('qfunction_azim-10.pdf')"
   ]
  },
  {
   "cell_type": "code",
   "execution_count": 3,
   "metadata": {},
   "outputs": [
    {
     "data": {
      "text/plain": [
       "  message: 'The solver successfully reached the end of the integration interval.'\n",
       "     nfev: 26\n",
       "     njev: 0\n",
       "      nlu: 0\n",
       "      sol: None\n",
       "   status: 0\n",
       "  success: True\n",
       "        t: array([0.00e+00, 1.00e-04, 1.10e-03, 1.11e-02, 1.00e-01])\n",
       " t_events: None\n",
       "        y: array([[0.00000000e+00, 9.99999998e-05, 1.09999978e-03, 1.10997721e-02,\n",
       "        9.98334166e-02],\n",
       "       [0.00000000e+00, 5.00000000e-09, 6.04999939e-07, 6.16043675e-05,\n",
       "        4.99583472e-03],\n",
       "       [0.00000000e+00, 1.00000000e-04, 1.10000000e-03, 1.11000000e-02,\n",
       "        1.00000000e-01]])\n",
       " y_events: None"
      ]
     },
     "execution_count": 3,
     "metadata": {},
     "output_type": "execute_result"
    }
   ],
   "source": [
    "from scipy.integrate import solve_ivp\n",
    "from shapely.geometry import Polygon\n",
    "from shapely.geometry import Point\n",
    "import numpy as np\n",
    "import math\n",
    "\n",
    "def unicycle_derivative(t, state):\n",
    "    # defined here so it can access action without receiving \n",
    "    # it as input (solve_ivp only wants a function depending\n",
    "    # on time and initial state)\n",
    "    der1 = action[0]*math.cos(state[2])\n",
    "    der2 = action[0]*math.sin(state[2])\n",
    "    out = np.array([der1,der2,action[1]])\n",
    "    return out\n",
    "\n",
    "action = np.array([1,1])  \n",
    "done = False\n",
    "x0 = np.array([0,0,0])  \n",
    "sol = solve_ivp(unicycle_derivative, [0,0.1], x0)\n",
    "sol"
   ]
  },
  {
   "cell_type": "code",
   "execution_count": 9,
   "metadata": {},
   "outputs": [
    {
     "data": {
      "text/plain": [
       "<matplotlib.collections.PathCollection at 0x1cbf50d7f10>"
      ]
     },
     "execution_count": 9,
     "metadata": {},
     "output_type": "execute_result"
    },
    {
     "data": {
      "image/png": "[encoded data removed]",
      "text/plain": [
       "<Figure size 432x288 with 1 Axes>"
      ]
     },
     "metadata": {
      "needs_background": "light"
     },
     "output_type": "display_data"
    }
   ],
   "source": [
    "import matplotlib.pyplot as plt\n",
    "plt.scatter(sol.y[0,:],sol.y[1,:])"
   ]
  },
  {
   "cell_type": "code",
   "execution_count": 55,
   "metadata": {},
   "outputs": [
    {
     "data": {
      "text/plain": [
       "[<matplotlib.lines.Line2D at 0x20f52120e20>]"
      ]
     },
     "execution_count": 55,
     "metadata": {},
     "output_type": "execute_result"
    },
    {
     "data": {
      "image/png": "[encoded data removed]",
      "text/plain": [
       "<Figure size 432x288 with 1 Axes>"
      ]
     },
     "metadata": {
      "needs_background": "light"
     },
     "output_type": "display_data"
    }
   ],
   "source": [
    "import numpy as np\n",
    "import matplotlib.pyplot as plt\n",
    "import math\n",
    "\n",
    "order = 3\n",
    "exp=np.polyfit([0,math.pi/4,math.pi/2,3*math.pi/4],[0,10,0,10],order)\n",
    "\n",
    "X = np.arange(0,2*math.pi,0.1)\n",
    "Y=0\n",
    "for i in range(order):\n",
    "    Y += exp[i]*X**(order-i)\n",
    "plt.plot(X,Y)\n"
   ]
  },
  {
   "cell_type": "code",
   "execution_count": 48,
   "metadata": {},
   "outputs": [
    {
     "data": {
      "text/plain": [
       "209.99999999999898"
      ]
     },
     "execution_count": 48,
     "metadata": {},
     "output_type": "execute_result"
    }
   ],
   "source": [
    "X = 1.5*math.pi\n",
    "Y=0\n",
    "for i in range(order):\n",
    "    Y += exp[i]*X**(order-i)\n",
    "Y"
   ]
  },
  {
   "cell_type": "code",
   "execution_count": 56,
   "metadata": {},
   "outputs": [
    {
     "data": {
      "text/plain": [
       "array([ 0.00000000e+00,  3.77155079e+00,  6.65298214e+00,  8.72685799e+00,\n",
       "        1.00757423e+01,  1.07821989e+01,  1.09287918e+01,  1.05980849e+01,\n",
       "        9.87264211e+00,  8.83502741e+00,  7.56780470e+00,  6.15353791e+00,\n",
       "        4.67479096e+00,  3.21412779e+00,  1.85411232e+00,  6.77308487e-01,\n",
       "       -2.33719791e-01, -7.96408581e-01, -9.28193956e-01, -5.46511987e-01,\n",
       "        4.31201254e-01,  2.08750970e+00,  4.50497726e+00,  7.76616789e+00,\n",
       "        1.19536455e+01,  1.71499740e+01,  2.34377174e+01,  3.08994395e+01,\n",
       "        3.96177043e+01,  4.96750758e+01,  6.11541178e+01,  7.41373943e+01,\n",
       "        8.87074692e+01,  1.04946906e+02,  1.22938270e+02,  1.42764124e+02,\n",
       "        1.64507031e+02,  1.88249557e+02,  2.14074265e+02,  2.42063719e+02,\n",
       "        2.72300483e+02,  3.04867120e+02,  3.39846195e+02,  3.77320272e+02,\n",
       "        4.17371914e+02,  4.60083685e+02,  5.05538151e+02,  5.53817873e+02,\n",
       "        6.05005417e+02,  6.59183346e+02,  7.16434224e+02,  7.76840615e+02,\n",
       "        8.40485083e+02,  9.07450191e+02,  9.77818505e+02,  1.05167259e+03,\n",
       "        1.12909500e+03,  1.21016831e+03,  1.29497509e+03,  1.38359788e+03,\n",
       "        1.47611927e+03,  1.57262181e+03,  1.67318806e+03])"
      ]
     },
     "execution_count": 56,
     "metadata": {},
     "output_type": "execute_result"
    }
   ],
   "source": [
    "Y"
   ]
  }
 ],
 "metadata": {
  "interpreter": {
   "hash": "55ea0cb68f1410e14f1b102be2a9643030fc84f6c3584f761fd75a4c5a6b4e18"
  },
  "kernelspec": {
   "display_name": "Python 3.9.9 64-bit (windows store)",
   "language": "python",
   "name": "python3"
  },
  "language_info": {
   "codemirror_mode": {
    "name": "ipython",
    "version": 3
   },
   "file_extension": ".py",
   "mimetype": "text/x-python",
   "name": "python",
   "nbconvert_exporter": "python",
   "pygments_lexer": "ipython3",
   "version": "3.9.10"
  },
  "orig_nbformat": 4
 },
 "nbformat": 4,
 "nbformat_minor": 2
}
